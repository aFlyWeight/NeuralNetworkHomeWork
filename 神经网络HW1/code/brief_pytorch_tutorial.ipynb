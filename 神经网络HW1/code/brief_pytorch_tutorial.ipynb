{
  "nbformat": 4,
  "nbformat_minor": 0,
  "metadata": {
    "colab": {
      "name": "brief_pytorch_tutorial.ipynb",
      "provenance": [],
      "collapsed_sections": [
        "4zw9TPPh6JlH"
      ]
    },
    "kernelspec": {
      "name": "python3",
      "display_name": "Python 3"
    },
    "accelerator": "GPU"
  },
  "cells": [
    {
      "cell_type": "markdown",
      "metadata": {
        "id": "95EDL5og3Ah5",
        "colab_type": "text"
      },
      "source": [
        "## 安装pytorch\n",
        "和在linux系统中安装类似，使用 ```pip```命令可以安装pytorch"
      ]
    },
    {
      "cell_type": "code",
      "metadata": {
        "id": "nNygBDNV2_36",
        "colab_type": "code",
        "outputId": "c36dff67-08e1-47d3-d494-7342654e4873",
        "colab": {
          "base_uri": "https://localhost:8080/",
          "height": 102
        }
      },
      "source": [
        "!pip install torch torchvision"
      ],
      "execution_count": 0,
      "outputs": [
        {
          "output_type": "stream",
          "text": [
            "Requirement already satisfied: torch in /usr/local/lib/python3.6/dist-packages (1.4.0)\n",
            "Requirement already satisfied: torchvision in /usr/local/lib/python3.6/dist-packages (0.5.0)\n",
            "Requirement already satisfied: numpy in /usr/local/lib/python3.6/dist-packages (from torchvision) (1.18.2)\n",
            "Requirement already satisfied: six in /usr/local/lib/python3.6/dist-packages (from torchvision) (1.12.0)\n",
            "Requirement already satisfied: pillow>=4.1.1 in /usr/local/lib/python3.6/dist-packages (from torchvision) (7.0.0)\n"
          ],
          "name": "stdout"
        }
      ]
    },
    {
      "cell_type": "markdown",
      "metadata": {
        "id": "FAV75sMg3cHr",
        "colab_type": "text"
      },
      "source": [
        "## pytorch基础\n",
        "\n",
        "- tensor的创建方式\n",
        "- tensor的数学运算\n",
        "- tensor与numpy的相互转换\n",
        "- tensor与GPU"
      ]
    },
    {
      "cell_type": "code",
      "metadata": {
        "id": "1DjusTum3Zl-",
        "colab_type": "code",
        "outputId": "b41ecade-0b52-4414-be45-057f65aa6dff",
        "colab": {
          "base_uri": "https://localhost:8080/",
          "height": 85
        }
      },
      "source": [
        "import torch \n",
        "\n",
        "a = torch.tensor(5)\n",
        "print(a, a.dtype)\n",
        "\n",
        "b = torch.tensor(1.5)\n",
        "print(b, b.dtype)\n",
        "\n",
        "c = torch.tensor([1,2,3,4])\n",
        "print(c, c.dtype)\n",
        "\n",
        "a_new = a.to(torch.float32)\n",
        "print(a_new, a_new.dtype)"
      ],
      "execution_count": 0,
      "outputs": [
        {
          "output_type": "stream",
          "text": [
            "tensor(5) torch.int64\n",
            "tensor(1.5000) torch.float32\n",
            "tensor([1, 2, 3, 4]) torch.int64\n",
            "tensor(5.) torch.float32\n"
          ],
          "name": "stdout"
        }
      ]
    },
    {
      "cell_type": "code",
      "metadata": {
        "id": "AGywvqTi41vh",
        "colab_type": "code",
        "outputId": "3b863423-6833-43da-8e7d-d5f5f6570832",
        "colab": {
          "base_uri": "https://localhost:8080/",
          "height": 90
        }
      },
      "source": [
        "print(a)\n",
        "# 数据默认在CPU上建立，如果GPU可用，将数据移动到GPU上\n",
        "device = 'cuda' if torch.cuda.is_available() else 'cpu'\n",
        "\n",
        "print(device)\n",
        "\n",
        "a_gpu = a.to(device) \n",
        "print(a_gpu)"
      ],
      "execution_count": 0,
      "outputs": [
        {
          "output_type": "stream",
          "text": [
            "tensor(5)\n",
            "cuda\n",
            "tensor(5, device='cuda:0')\n"
          ],
          "name": "stdout"
        }
      ]
    },
    {
      "cell_type": "code",
      "metadata": {
        "id": "NRvtPklZlQln",
        "colab_type": "code",
        "outputId": "8627186d-935c-491b-d315-5889ad46e432",
        "colab": {
          "base_uri": "https://localhost:8080/",
          "height": 636
        }
      },
      "source": [
        "# pytorch 数据与 numpy 数据的转换\n",
        "\n",
        "import numpy as np\n",
        "np_array = np.random.randn(10,2)\n",
        "print(np_array)\n",
        "print('\\n')\n",
        "\n",
        "# numpy --> pytorch\n",
        "py_array = torch.from_numpy(np_array)\n",
        "print(py_array)\n",
        "print('\\n')\n",
        "\n",
        "# pytorch --> numpy\n",
        "new_np_array = py_array.numpy()\n",
        "print(new_np_array)"
      ],
      "execution_count": 0,
      "outputs": [
        {
          "output_type": "stream",
          "text": [
            "[[-1.24668409  0.48276547]\n",
            " [-1.00397266  1.04469402]\n",
            " [-0.00284895  0.777787  ]\n",
            " [-0.63517866 -0.3629489 ]\n",
            " [ 1.32715382  1.57161283]\n",
            " [ 0.55539056 -0.69418444]\n",
            " [ 0.80035916 -0.87981318]\n",
            " [-0.25807961 -1.3956331 ]\n",
            " [-1.40950514  0.47395402]\n",
            " [ 0.8066246  -0.41613681]]\n",
            "\n",
            "\n",
            "tensor([[-1.2467,  0.4828],\n",
            "        [-1.0040,  1.0447],\n",
            "        [-0.0028,  0.7778],\n",
            "        [-0.6352, -0.3629],\n",
            "        [ 1.3272,  1.5716],\n",
            "        [ 0.5554, -0.6942],\n",
            "        [ 0.8004, -0.8798],\n",
            "        [-0.2581, -1.3956],\n",
            "        [-1.4095,  0.4740],\n",
            "        [ 0.8066, -0.4161]], dtype=torch.float64)\n",
            "\n",
            "\n",
            "[[-1.24668409  0.48276547]\n",
            " [-1.00397266  1.04469402]\n",
            " [-0.00284895  0.777787  ]\n",
            " [-0.63517866 -0.3629489 ]\n",
            " [ 1.32715382  1.57161283]\n",
            " [ 0.55539056 -0.69418444]\n",
            " [ 0.80035916 -0.87981318]\n",
            " [-0.25807961 -1.3956331 ]\n",
            " [-1.40950514  0.47395402]\n",
            " [ 0.8066246  -0.41613681]]\n"
          ],
          "name": "stdout"
        }
      ]
    },
    {
      "cell_type": "code",
      "metadata": {
        "id": "BbWeLo9W5Fcf",
        "colab_type": "code",
        "outputId": "ddb77d8a-442c-4757-fbfd-dfd502e74b9e",
        "colab": {
          "base_uri": "https://localhost:8080/",
          "height": 319
        }
      },
      "source": [
        "# 查看GPU信息\n",
        "\n",
        "!nvidia-smi"
      ],
      "execution_count": 0,
      "outputs": [
        {
          "output_type": "stream",
          "text": [
            "Thu Apr  9 08:27:47 2020       \n",
            "+-----------------------------------------------------------------------------+\n",
            "| NVIDIA-SMI 440.64.00    Driver Version: 418.67       CUDA Version: 10.1     |\n",
            "|-------------------------------+----------------------+----------------------+\n",
            "| GPU  Name        Persistence-M| Bus-Id        Disp.A | Volatile Uncorr. ECC |\n",
            "| Fan  Temp  Perf  Pwr:Usage/Cap|         Memory-Usage | GPU-Util  Compute M. |\n",
            "|===============================+======================+======================|\n",
            "|   0  Tesla P100-PCIE...  Off  | 00000000:00:04.0 Off |                    0 |\n",
            "| N/A   36C    P0    32W / 250W |    719MiB / 16280MiB |      0%      Default |\n",
            "+-------------------------------+----------------------+----------------------+\n",
            "                                                                               \n",
            "+-----------------------------------------------------------------------------+\n",
            "| Processes:                                                       GPU Memory |\n",
            "|  GPU       PID   Type   Process name                             Usage      |\n",
            "|=============================================================================|\n",
            "+-----------------------------------------------------------------------------+\n"
          ],
          "name": "stdout"
        }
      ]
    },
    {
      "cell_type": "markdown",
      "metadata": {
        "id": "4zw9TPPh6JlH",
        "colab_type": "text"
      },
      "source": [
        "## 简单的求导练习"
      ]
    },
    {
      "cell_type": "code",
      "metadata": {
        "id": "O3MfPPXd7DYp",
        "colab_type": "code",
        "outputId": "245b8c37-ce30-41d4-b904-1273ac556a68",
        "colab": {
          "base_uri": "https://localhost:8080/",
          "height": 90
        }
      },
      "source": [
        "import torch\n",
        "# 简单的求导练习\n",
        "# 3a + 4b = y\n",
        "# dy/da = 3; dy/db =4\n",
        "\n",
        "# 令 a = 2.3, b= 3.2\n",
        "va = torch.tensor(2.3, requires_grad=True)\n",
        "vb = torch.tensor(3.2, requires_grad=True)\n",
        "\n",
        "y = 3 * va + 4 * vb\n",
        "print('y = ', y)\n",
        "\n",
        "# gradient calculation\n",
        "y.backward()\n",
        "\n",
        "print('dy/da = ', va.grad)\n",
        "print('dy/db = ', vb.grad)\n"
      ],
      "execution_count": 0,
      "outputs": [
        {
          "output_type": "stream",
          "text": [
            "y =  tensor(19.7000, grad_fn=<AddBackward0>)\n",
            "dy/da =  tensor(3.)\n",
            "dy/db =  tensor(4.)\n"
          ],
          "name": "stdout"
        }
      ]
    },
    {
      "cell_type": "markdown",
      "metadata": {
        "id": "WjpaYkYe6OVu",
        "colab_type": "text"
      },
      "source": [
        "## 简单的例子"
      ]
    },
    {
      "cell_type": "code",
      "metadata": {
        "id": "hVGE6ka59b4J",
        "colab_type": "code",
        "outputId": "c2924627-bfef-4028-faf7-ef4efe5dcac7",
        "colab": {
          "base_uri": "https://localhost:8080/",
          "height": 265
        }
      },
      "source": [
        "import matplotlib.pyplot as plt\n",
        "import numpy as np\n",
        "# 生成样本： label=0\n",
        "x_pos = np.random.uniform(low=0, high=10, size=1000)\n",
        "noise = np.random.uniform(low=1, high=2, size=1000)\n",
        "y_pos = -1 * x_pos + 10 - noise \n",
        "label_pos = np.zeros(1000)\n",
        "\n",
        "# 生成样本：label = 1\n",
        "x_neg = np.random.uniform(low=0, high=10, size=1000)\n",
        "noise = np.random.uniform(low=1, high=2, size=1000)\n",
        "y_neg = -1 * x_neg + 10 + noise \n",
        "label_neg = np.ones(1000)\n",
        "\n",
        "# 画出分割面 x+y-10 = 0\n",
        "x_line = [0, 10]\n",
        "y_line = [10, 0]\n",
        "# 样本可视化\n",
        "plt.scatter(x_pos, y_pos, color='r')\n",
        "plt.scatter(x_neg, y_neg, color='b')\n",
        "plt.plot(x_line, y_line, color='g')\n",
        "plt.show()"
      ],
      "execution_count": 0,
      "outputs": [
        {
          "output_type": "display_data",
          "data": {
            "image/png": "[encoded data removed]",
            "text/plain": [
              "<Figure size 432x288 with 1 Axes>"
            ]
          },
          "metadata": {
            "tags": []
          }
        }
      ]
    },
    {
      "cell_type": "code",
      "metadata": {
        "id": "7aO95xLIDgS1",
        "colab_type": "code",
        "outputId": "f600c3db-4ff6-449f-f10c-411a094917f5",
        "colab": {
          "base_uri": "https://localhost:8080/",
          "height": 221
        }
      },
      "source": [
        "# 组成矩阵\n",
        "\n",
        "x_train = np.hstack([x_pos, x_neg])\n",
        "y_train = np.hstack([y_pos, y_neg])\n",
        "train_set = np.vstack([x_train, y_train])\n",
        "train_set = train_set.T \n",
        "\n",
        "train_label = np.hstack([label_pos, label_neg])\n",
        "\n",
        "print('train_set.shape = ', train_set.shape)\n",
        "print(train_set)\n",
        "print('\\n')\n",
        "print('train_label.shape = ', train_label.shape)\n",
        "print(train_label)"
      ],
      "execution_count": 0,
      "outputs": [
        {
          "output_type": "stream",
          "text": [
            "train_set.shape =  (2000, 2)\n",
            "[[ 9.2492767  -1.1209412 ]\n",
            " [ 4.92110021  3.78759163]\n",
            " [ 9.44979474 -0.62584199]\n",
            " ...\n",
            " [ 8.36367289  2.87326865]\n",
            " [ 0.39083746 10.86384592]\n",
            " [ 0.36876775 11.07609232]]\n",
            "\n",
            "\n",
            "train_label.shape =  (2000,)\n",
            "[0. 0. 0. ... 1. 1. 1.]\n"
          ],
          "name": "stdout"
        }
      ]
    },
    {
      "cell_type": "code",
      "metadata": {
        "id": "Y6sgERG6Ereo",
        "colab_type": "code",
        "outputId": "1f56a900-a500-49c1-b33a-2d98087e0e5c",
        "colab": {
          "base_uri": "https://localhost:8080/",
          "height": 170
        }
      },
      "source": [
        "# 将数据转换成 tensor\n",
        "import torch\n",
        "\n",
        "device = 'cuda:0' if torch.cuda.is_available() else 'cpu'\n",
        "print(device)\n",
        "\n",
        "train_data_pytorch = torch.from_numpy(train_set).float().to(device)\n",
        "train_label_pytorch = torch.from_numpy(train_label).to(torch.long).to(device)\n",
        " \n",
        "print(train_data_pytorch)\n",
        "print(train_label_pytorch)\n"
      ],
      "execution_count": 0,
      "outputs": [
        {
          "output_type": "stream",
          "text": [
            "cuda:0\n",
            "tensor([[ 9.2493, -1.1209],\n",
            "        [ 4.9211,  3.7876],\n",
            "        [ 9.4498, -0.6258],\n",
            "        ...,\n",
            "        [ 8.3637,  2.8733],\n",
            "        [ 0.3908, 10.8638],\n",
            "        [ 0.3688, 11.0761]], device='cuda:0')\n",
            "tensor([0, 0, 0,  ..., 1, 1, 1], device='cuda:0')\n"
          ],
          "name": "stdout"
        }
      ]
    },
    {
      "cell_type": "code",
      "metadata": {
        "id": "w8BWvAjaHymL",
        "colab_type": "code",
        "colab": {}
      },
      "source": [
        "# 构建神经网络模型\n",
        "import torch.nn as nn \n",
        "from torch.nn import functional as F\n",
        "\n",
        "class SimpleNet(nn.Module):\n",
        "  def __init__(self, D_in, Hidden, D_out):\n",
        "    super(SimpleNet, self).__init__()\n",
        "    self.linear_1 = nn.Linear(D_in, Hidden)\n",
        "    self.linear_2 = nn.Linear(Hidden, D_out)\n",
        "  \n",
        "  def forward(self, x):\n",
        "    x = F.sigmoid(self.linear_1(x))\n",
        "    x = self.linear_2(x)\n",
        "    return x"
      ],
      "execution_count": 0,
      "outputs": []
    },
    {
      "cell_type": "code",
      "metadata": {
        "id": "di6LRvKaMxWh",
        "colab_type": "code",
        "outputId": "63a954ca-f154-4d16-c31e-20defe92167f",
        "colab": {
          "base_uri": "https://localhost:8080/",
          "height": 476
        }
      },
      "source": [
        "## 训练模型\n",
        "\n",
        "import torch.optim as optim \n",
        "\n",
        "model = SimpleNet(2, 2, 2).to(device)\n",
        "\n",
        "def main():\n",
        "  criterion = nn.CrossEntropyLoss()\n",
        "  lr = 0.1 # learning rate\n",
        "  optimizer = optim.SGD(model.parameters(), lr=lr)\n",
        "  epoch_num = 2500\n",
        "\n",
        "  for ep in range(epoch_num):\n",
        "    # train\n",
        "    model.train()\n",
        "    output = model(train_data_pytorch)\n",
        "    loss = criterion(output, train_label_pytorch)\n",
        "    optimizer.zero_grad()\n",
        "    loss.backward()\n",
        "    optimizer.step()\n",
        "    # 每100次迭代输出训练集上的分类结果\n",
        "    if (ep+1)%100 == 0:\n",
        "      model.eval()\n",
        "      p_out = model(train_data_pytorch)\n",
        "      predict_labels = torch.argmax(p_out, 1).cpu().numpy()\n",
        "      acc = np.sum(predict_labels == train_label) / 2000\n",
        "      print('epoch num : {} -- Loss : {} -- Acc : {}'.format(ep+1,loss.data, acc))\n",
        "\n",
        "\n",
        "main()"
      ],
      "execution_count": 0,
      "outputs": [
        {
          "output_type": "stream",
          "text": [
            "/usr/local/lib/python3.6/dist-packages/torch/nn/functional.py:1351: UserWarning: nn.functional.sigmoid is deprecated. Use torch.sigmoid instead.\n",
            "  warnings.warn(\"nn.functional.sigmoid is deprecated. Use torch.sigmoid instead.\")\n"
          ],
          "name": "stderr"
        },
        {
          "output_type": "stream",
          "text": [
            "epoch num : 100 -- Loss : 0.640455424785614 -- Acc : 0.6435\n",
            "epoch num : 200 -- Loss : 0.6247225999832153 -- Acc : 0.6475\n",
            "epoch num : 300 -- Loss : 0.6116660237312317 -- Acc : 0.658\n",
            "epoch num : 400 -- Loss : 0.5950497984886169 -- Acc : 0.6805\n",
            "epoch num : 500 -- Loss : 0.5712347030639648 -- Acc : 0.7255\n",
            "epoch num : 600 -- Loss : 0.5388244986534119 -- Acc : 0.7875\n",
            "epoch num : 700 -- Loss : 0.4964624345302582 -- Acc : 0.872\n",
            "epoch num : 800 -- Loss : 0.4448252022266388 -- Acc : 0.946\n",
            "epoch num : 900 -- Loss : 0.3872624933719635 -- Acc : 0.9895\n",
            "epoch num : 1000 -- Loss : 0.4121142625808716 -- Acc : 0.8635\n",
            "epoch num : 1100 -- Loss : 0.3885829746723175 -- Acc : 0.8715\n",
            "epoch num : 1200 -- Loss : 0.3663039803504944 -- Acc : 0.8865\n",
            "epoch num : 1300 -- Loss : 0.3373892903327942 -- Acc : 0.911\n",
            "epoch num : 1400 -- Loss : 0.29707425832748413 -- Acc : 0.9425\n",
            "epoch num : 1500 -- Loss : 0.15609543025493622 -- Acc : 1.0\n",
            "epoch num : 1600 -- Loss : 0.12400001287460327 -- Acc : 1.0\n",
            "epoch num : 1700 -- Loss : 0.10676052421331406 -- Acc : 1.0\n",
            "epoch num : 1800 -- Loss : 0.09305405616760254 -- Acc : 1.0\n",
            "epoch num : 1900 -- Loss : 0.0819445550441742 -- Acc : 1.0\n",
            "epoch num : 2000 -- Loss : 0.07283078879117966 -- Acc : 1.0\n",
            "epoch num : 2100 -- Loss : 0.06527097523212433 -- Acc : 1.0\n",
            "epoch num : 2200 -- Loss : 0.0589340515434742 -- Acc : 1.0\n",
            "epoch num : 2300 -- Loss : 0.05356985703110695 -- Acc : 1.0\n",
            "epoch num : 2400 -- Loss : 0.04898723214864731 -- Acc : 1.0\n",
            "epoch num : 2500 -- Loss : 0.04503911733627319 -- Acc : 1.0\n"
          ],
          "name": "stdout"
        }
      ]
    },
    {
      "cell_type": "code",
      "metadata": {
        "id": "g1Om9wGoksWk",
        "colab_type": "code",
        "outputId": "d7c430da-a853-4cc5-9cad-5a668376459b",
        "colab": {
          "base_uri": "https://localhost:8080/",
          "height": 238
        }
      },
      "source": [
        "# 生成一些新的测试点进行测试\n",
        "test_points = torch.tensor([[1,1],[4,7],[11,3],[-1,9],[0,7],[20,0]]).float().cuda() # 0, 1, 1, 0, 0, 1\n",
        "model.eval()\n",
        "test_output = model(test_points)\n",
        "print(test_output)\n",
        "print('\\n')\n",
        "print(torch.argmax(test_output, 1))\n",
        "print('\\n')"
      ],
      "execution_count": 0,
      "outputs": [
        {
          "output_type": "stream",
          "text": [
            "tensor([[ 3.2735, -2.2306],\n",
            "        [-0.7739,  1.7411],\n",
            "        [-2.0802,  3.0279],\n",
            "        [ 2.3121, -1.2987],\n",
            "        [ 2.9441, -1.9211],\n",
            "        [-2.2686,  3.2134]], device='cuda:0', grad_fn=<AddmmBackward>)\n",
            "\n",
            "\n",
            "tensor([0, 1, 1, 0, 0, 1], device='cuda:0')\n",
            "\n",
            "\n"
          ],
          "name": "stdout"
        },
        {
          "output_type": "stream",
          "text": [
            "/usr/local/lib/python3.6/dist-packages/torch/nn/functional.py:1351: UserWarning: nn.functional.sigmoid is deprecated. Use torch.sigmoid instead.\n",
            "  warnings.warn(\"nn.functional.sigmoid is deprecated. Use torch.sigmoid instead.\")\n"
          ],
          "name": "stderr"
        }
      ]
    },
    {
      "cell_type": "code",
      "metadata": {
        "id": "HVVCSAfSobSa",
        "colab_type": "code",
        "colab": {}
      },
      "source": [
        ""
      ],
      "execution_count": 0,
      "outputs": []
    }
  ]
}